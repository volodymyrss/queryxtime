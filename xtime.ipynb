{
 "cells": [
  {
   "cell_type": "code",
   "execution_count": 8,
   "metadata": {
    "collapsed": true
   },
   "outputs": [],
   "source": []
  },
  {
   "cell_type": "code",
   "execution_count": 46,
   "metadata": {
    "collapsed": false
   },
   "outputs": [
    {
     "data": {
      "text/plain": [
       "[('time_in_i',\n",
       "  'ISO 8601 date (yyyy-MM-dd hh:mm:ss)',\n",
       "  '2007-12-28 23:06:40.000 UTC'),\n",
       " ('time_in_c',\n",
       "  'Calendar date (yyyyMondd at hh:mm:ss)',\n",
       "  '2007Dec28 at 23:06:40.000 UTC'),\n",
       " ('time_in_d',\n",
       "  'Year and day number (yyyy:ddd:hh:mm:ss)',\n",
       "  '2007:362:23:06:40.000 UTC'),\n",
       " ('time_in_j', 'Julian Day (ddddddd.ddd...)', '2454463.46296296'),\n",
       " ('time_in_m', 'Modified Julian Day (ddddd.ddd...)', '54462.96296296'),\n",
       " ('time_in_sf', 'Fermi seconds since 2001.0 UTC (decimal)', '220576001.0'),\n",
       " ('time_in_wf', 'Fermi mission week (integer)', '-22'),\n",
       " ('time_in_sl',\n",
       "  'LIGO/GPS seconds since 1980-01-06 UTC (decimal)',\n",
       "  '882918414.000'),\n",
       " ('time_in_snu', 'NuSTAR seconds since 2010.0 UTC (decimal)', '-63334400.000'),\n",
       " ('time_in_hnu',\n",
       "  'NuSTAR seconds since 2010.0 UTC (hexadecimal)',\n",
       "  '0xfc399800'),\n",
       " ('time_in_nnu',\n",
       "  'NuSTAR mission day number (dddd:hh:mm:ss)',\n",
       "  '-733:00:-53:-20.000'),\n",
       " ('time_in_fnu', 'NuSTAR decimal mission day (dddd.ddd...)', '-733.03703704'),\n",
       " ('time_in_s', 'RXTE seconds since 1994.0 UTC (decimal)', '441500801.622'),\n",
       " ('time_in_h', 'RXTE seconds since 1994.0 UTC (hexadecimal)', '0x1a50c481'),\n",
       " ('time_in_n', 'RXTE mission day number (dddd:hh:mm:ss)', '5109:23:6:41.622'),\n",
       " ('time_in_f', 'RXTE decimal mission day (dddd.ddd...)', '5109.96298173'),\n",
       " ('time_in_sz', 'Suzaku seconds since 2000.0 UTC (decimal)', '252198401.000'),\n",
       " ('time_in_hz', 'Suzaku seconds since 2000.0 UTC (hexadecimal)', '0xf083e01'),\n",
       " ('time_in_nz',\n",
       "  'Suzaku mission day number (dddd:hh:mm:ss)',\n",
       "  '2918:23:6:41.000'),\n",
       " ('time_in_fz', 'Suzaku decimal mission day (dddd.ddd...)', '2918.96297454'),\n",
       " ('time_in_ss', 'Swift seconds since 2001.0 UTC (decimal)', '220576002.463'),\n",
       " ('time_in_hs', 'Swift seconds since 2001.0 UTC (hexadecimal)', '0xd25b902'),\n",
       " ('time_in_ns',\n",
       "  'Swift mission day number (dddd:hh:mm:ss)',\n",
       "  '2552:23:6:42.463'),\n",
       " ('time_in_fs', 'Swift decimal mission day (dddd.ddd...)', '2552.96299147'),\n",
       " ('time_in_sn',\n",
       "  'XMM/Chandra seconds since 1998.0 TT (decimal)',\n",
       "  '315270465.184'),\n",
       " ('time_in_hn',\n",
       "  'XMM/Chandra seconds since 1998.0 TT (hexadecimal)',\n",
       "  '0x12caa541'),\n",
       " ('time_in_nn',\n",
       "  'XMM/Chandra mission day number (dddd:hh:mm:ss)',\n",
       "  '3648:23:7:45.184'),\n",
       " ('time_in_fn',\n",
       "  'XMM/Chandra decimal mission day (dddd.ddd...)',\n",
       "  '3648.96371741')]"
      ]
     },
     "execution_count": 46,
     "metadata": {},
     "output_type": "execute_result"
    }
   ],
   "source": [
    "import requests\n",
    "import re\n",
    "\n",
    "xtime_url=\"https://heasarc.gsfc.nasa.gov/cgi-bin/Tools/xTime/xTime.pl\"\n",
    "\n",
    "\n",
    "pattern=\"\"\"<tr>.*?<th scope=row><label for=\"(.*?)\">(.*?)</label></th>.*?<td align=center>.*?</td>.*?<td>(.*?)</td>.*?</tr>\"\"\"\n",
    "\n",
    "args=dict(\n",
    "        time_in_sf=220576001.000,\n",
    "        timesys_in=\"u\",\n",
    "        timesys_out=\"u\",\n",
    "        apply_clock_offset=\"yes\")\n",
    "\n",
    "content=requests.get(xtime_url,params=args).content\n",
    "\n",
    "re.findall(pattern,content,re.S)\n"
   ]
  }
 ],
 "metadata": {
  "kernelspec": {
   "display_name": "Python 2",
   "language": "python",
   "name": "python2"
  },
  "language_info": {
   "codemirror_mode": {
    "name": "ipython",
    "version": 2
   },
   "file_extension": ".py",
   "mimetype": "text/x-python",
   "name": "python",
   "nbconvert_exporter": "python",
   "pygments_lexer": "ipython2",
   "version": "2.7.6"
  }
 },
 "nbformat": 4,
 "nbformat_minor": 0
}
